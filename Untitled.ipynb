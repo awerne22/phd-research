{
 "cells": [
  {
   "cell_type": "code",
   "execution_count": 1,
   "id": "325fbcac",
   "metadata": {},
   "outputs": [],
   "source": [
    "import numpy as np"
   ]
  },
  {
   "cell_type": "code",
   "execution_count": 12,
   "id": "a62a9a5e",
   "metadata": {},
   "outputs": [
    {
     "data": {
      "text/plain": [
       "2.858554084461673e-05"
      ]
     },
     "execution_count": 12,
     "metadata": {},
     "output_type": "execute_result"
    }
   ],
   "source": [
    "H0=70\n",
    "r=999.5206\n",
    "v=H0*r\n",
    "\n",
    "(1+v)/(v-1)-1\n",
    "#np.sqrt(-1)\n"
   ]
  },
  {
   "cell_type": "code",
   "execution_count": 15,
   "id": "8e71dc36",
   "metadata": {},
   "outputs": [
    {
     "data": {
      "text/plain": [
       "8.163265306122449e-10"
      ]
     },
     "execution_count": 15,
     "metadata": {},
     "output_type": "execute_result"
    }
   ],
   "source": [
    "1/np.power((1000*70)/2,2)"
   ]
  },
  {
   "cell_type": "code",
   "execution_count": null,
   "id": "4016e506",
   "metadata": {},
   "outputs": [],
   "source": []
  }
 ],
 "metadata": {
  "kernelspec": {
   "display_name": "Python 3 (ipykernel)",
   "language": "python",
   "name": "python3"
  },
  "language_info": {
   "codemirror_mode": {
    "name": "ipython",
    "version": 3
   },
   "file_extension": ".py",
   "mimetype": "text/x-python",
   "name": "python",
   "nbconvert_exporter": "python",
   "pygments_lexer": "ipython3",
   "version": "3.11.0"
  }
 },
 "nbformat": 4,
 "nbformat_minor": 5
}
