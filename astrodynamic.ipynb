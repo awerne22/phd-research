{
 "cells": [
  {
   "cell_type": "markdown",
   "id": "a2c991fb",
   "metadata": {},
   "source": [
    "# lab2"
   ]
  },
  {
   "cell_type": "code",
   "execution_count": 1,
   "id": "b89e822a",
   "metadata": {},
   "outputs": [],
   "source": [
    "from jupyter_dash import JupyterDash\n",
    "\n",
    "import dash\n",
    "from dash import dcc\n",
    "from dash import html\n",
    "from dash.dependencies import Input, Output\n",
    "import plotly.express as px\n",
    "import sympy as sm\n",
    "import numpy as np\n",
    "import pandas as pd\n",
    "import plotly.graph_objects as go\n"
   ]
  },
  {
   "cell_type": "code",
   "execution_count": 2,
   "id": "3afa1174",
   "metadata": {},
   "outputs": [
    {
     "data": {
      "text/latex": [
       "$\\displaystyle - \\frac{e \\sqrt{1 - e^{2}} \\sin{\\left(v \\right)}}{e \\cos{\\left(v \\right)} + 1} + 2 \\operatorname{atan}{\\left(\\sqrt{\\frac{1 - e}{e + 1}} \\tan{\\left(\\frac{v}{2} \\right)} \\right)}$"
      ],
      "text/plain": [
       "-e*sqrt(1 - e**2)*sin(v)/(e*cos(v) + 1) + 2*atan(sqrt((1 - e)/(e + 1))*tan(v/2))"
      ]
     },
     "execution_count": 2,
     "metadata": {},
     "output_type": "execute_result"
    }
   ],
   "source": [
    "e=sm.symbols(\"e\")\n",
    "v=sm.symbols(\"v\")\n",
    "v_t=2*sm.atan(sm.sqrt((1- e)/(1 + e))*sm.tan(v/2))-e*sm.sqrt(1-e**2)*sm.sin(v)/(1+e*sm.cos(v))\n",
    "V=np.linspace(0.1, 2 * np.pi, 100)\n",
    "vt=sm.lambdify([v,e],v_t)\n",
    "def time(v,e):\n",
    "    t=vt(v,e)\n",
    "    if t < 0:\n",
    "        return t + 2* np.pi\n",
    "    return t\n",
    "\n",
    "v_t"
   ]
  },
  {
   "cell_type": "code",
   "execution_count": 3,
   "id": "cb9b4485",
   "metadata": {},
   "outputs": [
    {
     "data": {
      "text/latex": [
       "$\\displaystyle E - e \\sin{\\left(E \\right)}$"
      ],
      "text/plain": [
       "E - e*sin(E)"
      ]
     },
     "execution_count": 3,
     "metadata": {},
     "output_type": "execute_result"
    }
   ],
   "source": [
    "E=sm.symbols(\"E\")\n",
    "e_t=E-e*sm.sin(E)\n",
    "et=sm.lambdify([E,e],e_t)\n",
    "e_t\n"
   ]
  },
  {
   "cell_type": "code",
   "execution_count": 4,
   "id": "6e01b986",
   "metadata": {},
   "outputs": [
    {
     "name": "stdout",
     "output_type": "stream",
     "text": [
      "Dash is running on http://127.0.0.1:8080/\n",
      "\n"
     ]
    },
    {
     "data": {
      "text/html": [
       "\n",
       "        <iframe\n",
       "            width=\"100%\"\n",
       "            height=\"650\"\n",
       "            src=\"http://127.0.0.1:8080/\"\n",
       "            frameborder=\"0\"\n",
       "            allowfullscreen\n",
       "            \n",
       "        ></iframe>\n",
       "        "
      ],
      "text/plain": [
       "<IPython.lib.display.IFrame at 0x1906b4ad750>"
      ]
     },
     "metadata": {},
     "output_type": "display_data"
    }
   ],
   "source": [
    "app = JupyterDash('V_t')\n",
    "app.layout = html.Div([\n",
    "    dcc.Graph(id='graph'),\n",
    "    html.Div(\n",
    "        [html.P(\"Змінити значення екстренциситету e\"),\n",
    "        dcc.Slider(0, 0.999,id=\"e\",value=0.)],\n",
    "        style={\"width\":\"35%\",\"float\":\"left\"}\n",
    "    )\n",
    "    \n",
    "])\n",
    "@app.callback(\n",
    "    Output('graph', 'figure'),\n",
    "    [Input(\"e\", \"value\")]\n",
    ")\n",
    "def update_figure(e):\n",
    "    fig=go.Figure()\n",
    "    fig.add_trace(go.Scatter(\n",
    "    x=[time(v,e) for v in V],\n",
    "    y=V,\n",
    "    name=\"v(t*)\"\n",
    "    ))\n",
    "    fig.add_trace(go.Scatter(\n",
    "    x=[et(v,e) for v in V],\n",
    "    y=V,\n",
    "    name=\"e(t*)\"\n",
    "    ))\n",
    "    fig.update_layout(\n",
    "        legend_title_text='e='+str(e),\n",
    "        showlegend=True,\n",
    "         xaxis=dict(\n",
    "            tickmode = 'array',\n",
    "            tickvals = np.linspace(0, 2 * np.pi, 5),\n",
    "            ticktext = ['0', 'π/2', 'π', '3π/2', '2π'],\n",
    "        ),\n",
    "        yaxis=dict(\n",
    "            tickmode = 'array',\n",
    "            tickvals = np.linspace(0, 2 * np.pi, 5),\n",
    "            ticktext = ['0', 'π/2', 'π', '3π/2', '2π']\n",
    "            ),\n",
    "        title=\"Залежність істинної аномалії v та рівняня Кеплера для ексцентричної аномалії від часу t*\",\n",
    "        xaxis_title=\"t*\",\n",
    "        yaxis_title=\"F(t*)\",\n",
    "        \n",
    ")   \n",
    "    return fig\n",
    "app.run_server(mode=\"inline\",port=8080)"
   ]
  },
  {
   "cell_type": "code",
   "execution_count": 1,
   "id": "494ce523",
   "metadata": {},
   "outputs": [],
   "source": []
  },
  {
   "cell_type": "markdown",
   "id": "6a15ceaf",
   "metadata": {},
   "source": [
    "# Lab1"
   ]
  },
  {
   "cell_type": "code",
   "execution_count": 96,
   "id": "c199af19",
   "metadata": {},
   "outputs": [
    {
     "data": {
      "text/latex": [
       "$\\displaystyle \\xi$"
      ],
      "text/plain": [
       "xi"
      ]
     },
     "execution_count": 96,
     "metadata": {},
     "output_type": "execute_result"
    }
   ],
   "source": [
    "t=sm.symbols(\"t\")\n",
    "\n",
    "omega=0.2300\n",
    "e=0.67114\n",
    "a2=-10.7111\n",
    "a4=5.15825\n",
    "a6=-4.42644\n",
    "xi_e=3.69793\n",
    "xi=sm.symbols('xi')\n",
    "xi0=sm.symbols('xi0')\n",
    "omeg=sm.symbols('omega')\n",
    "xi"
   ]
  },
  {
   "cell_type": "markdown",
   "id": "d7d0fbd4",
   "metadata": {},
   "source": [
    "# поверхня зорі"
   ]
  },
  {
   "cell_type": "code",
   "execution_count": 119,
   "id": "c85e73e8",
   "metadata": {},
   "outputs": [
    {
     "data": {
      "text/plain": [
       "2.8883013816137564"
      ]
     },
     "execution_count": 119,
     "metadata": {},
     "output_type": "execute_result"
    }
   ],
   "source": [
    "def xi_0(t):\n",
    "    return xi_e*((1+t**2)*((e**2)/(1-e**2)))**-0.5\n",
    "xi_0(1)"
   ]
  },
  {
   "cell_type": "markdown",
   "id": "1266293c",
   "metadata": {},
   "source": [
    "# функції бесселя"
   ]
  },
  {
   "attachments": {
    "Screenshot%202022-12-09%20at%2001.21.23.png": {
     "image/png": "[encoded data removed]"
    }
   },
   "cell_type": "markdown",
   "id": "24719d50",
   "metadata": {},
   "source": [
    "![Screenshot%202022-12-09%20at%2001.21.23.png](attachment:Screenshot%202022-12-09%20at%2001.21.23.png)"
   ]
  },
  {
   "cell_type": "code",
   "execution_count": 153,
   "id": "273bf0d9",
   "metadata": {},
   "outputs": [
    {
     "data": {
      "text/latex": [
       "$\\displaystyle \\frac{\\sin{\\left(\\xi \\right)}}{\\xi}$"
      ],
      "text/plain": [
       "sin(xi)/xi"
      ]
     },
     "execution_count": 153,
     "metadata": {},
     "output_type": "execute_result"
    }
   ],
   "source": [
    "j0=sm.sin(xi)/xi\n",
    "j0"
   ]
  },
  {
   "cell_type": "code",
   "execution_count": 154,
   "id": "f7a711f7",
   "metadata": {},
   "outputs": [
    {
     "data": {
      "text/latex": [
       "$\\displaystyle \\frac{\\sin{\\left(\\xi \\right)}}{\\xi} - \\frac{\\cos{\\left(\\xi \\right)}}{\\xi}$"
      ],
      "text/plain": [
       "sin(xi)/xi - cos(xi)/xi"
      ]
     },
     "execution_count": 154,
     "metadata": {},
     "output_type": "execute_result"
    }
   ],
   "source": [
    "j1=(sm.sin(xi)/xi)-(sm.cos(xi)/xi)\n",
    "j1"
   ]
  },
  {
   "cell_type": "code",
   "execution_count": 155,
   "id": "f1c387de",
   "metadata": {},
   "outputs": [
    {
     "data": {
      "text/latex": [
       "$\\displaystyle \\frac{\\left(-1 + \\frac{3}{\\xi^{2}}\\right) \\sin{\\left(\\xi \\right)}}{\\xi} - \\frac{3 \\cos{\\left(\\xi \\right)}}{\\xi^{2}}$"
      ],
      "text/plain": [
       "(-1 + 3/xi**2)*sin(xi)/xi - 3*cos(xi)/xi**2"
      ]
     },
     "execution_count": 155,
     "metadata": {},
     "output_type": "execute_result"
    }
   ],
   "source": [
    "j2=((3/xi**2)-1)*(sm.sin(xi)/xi)-(3*sm.cos(xi)/xi**2)\n",
    "j2"
   ]
  },
  {
   "cell_type": "code",
   "execution_count": 156,
   "id": "d8f6dccd",
   "metadata": {},
   "outputs": [
    {
     "data": {
      "text/latex": [
       "$\\displaystyle \\frac{4 \\left(\\frac{\\left(-1 + \\frac{3}{\\xi^{2}}\\right) \\sin{\\left(\\xi \\right)}}{\\xi} - \\frac{\\sin{\\left(\\xi \\right)}}{\\xi} + \\frac{\\cos{\\left(\\xi \\right)}}{\\xi} - \\frac{3 \\cos{\\left(\\xi \\right)}}{\\xi^{2}}\\right)}{\\xi}$"
      ],
      "text/plain": [
       "4*((-1 + 3/xi**2)*sin(xi)/xi - sin(xi)/xi + cos(xi)/xi - 3*cos(xi)/xi**2)/xi"
      ]
     },
     "execution_count": 156,
     "metadata": {},
     "output_type": "execute_result"
    }
   ],
   "source": [
    "j3=(4/xi)*(j2-j1)\n",
    "j3"
   ]
  },
  {
   "cell_type": "code",
   "execution_count": 157,
   "id": "608ef2e0",
   "metadata": {},
   "outputs": [
    {
     "data": {
      "text/latex": [
       "$\\displaystyle \\frac{6 \\left(- \\frac{\\left(-1 + \\frac{3}{\\xi^{2}}\\right) \\sin{\\left(\\xi \\right)}}{\\xi} + \\frac{4 \\left(\\frac{\\left(-1 + \\frac{3}{\\xi^{2}}\\right) \\sin{\\left(\\xi \\right)}}{\\xi} - \\frac{\\sin{\\left(\\xi \\right)}}{\\xi} + \\frac{\\cos{\\left(\\xi \\right)}}{\\xi} - \\frac{3 \\cos{\\left(\\xi \\right)}}{\\xi^{2}}\\right)}{\\xi} + \\frac{3 \\cos{\\left(\\xi \\right)}}{\\xi^{2}}\\right)}{\\xi}$"
      ],
      "text/plain": [
       "6*(-(-1 + 3/xi**2)*sin(xi)/xi + 4*((-1 + 3/xi**2)*sin(xi)/xi - sin(xi)/xi + cos(xi)/xi - 3*cos(xi)/xi**2)/xi + 3*cos(xi)/xi**2)/xi"
      ]
     },
     "execution_count": 157,
     "metadata": {},
     "output_type": "execute_result"
    }
   ],
   "source": [
    "j4=(6/xi)*(j3-j2)\n",
    "j4"
   ]
  },
  {
   "cell_type": "markdown",
   "id": "5e913505",
   "metadata": {},
   "source": [
    "# поліном Лежандра"
   ]
  },
  {
   "attachments": {
    "Screenshot%202022-12-09%20at%2001.28.22.png": {
     "image/png": "[encoded data removed]"
    }
   },
   "cell_type": "markdown",
   "id": "57092e20",
   "metadata": {},
   "source": [
    "![Screenshot%202022-12-09%20at%2001.28.22.png](attachment:Screenshot%202022-12-09%20at%2001.28.22.png)"
   ]
  },
  {
   "cell_type": "code",
   "execution_count": 158,
   "id": "7c2c4744",
   "metadata": {},
   "outputs": [
    {
     "data": {
      "text/latex": [
       "$\\displaystyle 1.5 t^{2} - 0.5$"
      ],
      "text/plain": [
       "1.5*t**2 - 0.5"
      ]
     },
     "execution_count": 158,
     "metadata": {},
     "output_type": "execute_result"
    }
   ],
   "source": [
    "p2=1/2*(3*t**2-1)\n",
    "p2"
   ]
  },
  {
   "cell_type": "code",
   "execution_count": 159,
   "id": "ba86ee1a",
   "metadata": {},
   "outputs": [
    {
     "data": {
      "text/latex": [
       "$\\displaystyle 4.375 t^{4} - 3.75 t^{2} + 0.375$"
      ],
      "text/plain": [
       "4.375*t**4 - 3.75*t**2 + 0.375"
      ]
     },
     "execution_count": 159,
     "metadata": {},
     "output_type": "execute_result"
    }
   ],
   "source": [
    "p4=1/8*(35*t**4-30*t**2+3)\n",
    "p4"
   ]
  },
  {
   "cell_type": "code",
   "execution_count": 160,
   "id": "1c11d4c0",
   "metadata": {},
   "outputs": [
    {
     "data": {
      "text/plain": [
       "1.0"
      ]
     },
     "execution_count": 160,
     "metadata": {},
     "output_type": "execute_result"
    }
   ],
   "source": [
    "p_2=sm.lambdify(t,p2)\n",
    "p_2(1)"
   ]
  },
  {
   "cell_type": "markdown",
   "id": "8b79f377",
   "metadata": {},
   "source": [
    "# безрозмірні моменти інерції"
   ]
  },
  {
   "cell_type": "code",
   "execution_count": 173,
   "id": "5338fa03",
   "metadata": {},
   "outputs": [
    {
     "data": {
      "text/latex": [
       "$\\displaystyle 0$"
      ],
      "text/plain": [
       "0"
      ]
     },
     "execution_count": 173,
     "metadata": {},
     "output_type": "execute_result"
    }
   ],
   "source": [
    "one=sm.integrate((p2),(t,-1,1))\n",
    "one"
   ]
  },
  {
   "cell_type": "code",
   "execution_count": 174,
   "id": "20a7da07",
   "metadata": {},
   "outputs": [
    {
     "data": {
      "text/latex": [
       "$\\displaystyle 0.0529 \\cdot \\left(5.35555 - 16.06665 t^{2}\\right) \\left(\\frac{\\left(-1 + \\frac{3}{\\xi^{2}}\\right) \\sin{\\left(\\xi \\right)}}{\\xi} - \\frac{3 \\cos{\\left(\\xi \\right)}}{\\xi^{2}}\\right) + 0.0529 + \\frac{0.9471 \\sin{\\left(\\xi \\right)}}{\\xi}$"
      ],
      "text/plain": [
       "0.0529*(5.35555 - 16.06665*t**2)*((-1 + 3/xi**2)*sin(xi)/xi - 3*cos(xi)/xi**2) + 0.0529 + 0.9471*sin(xi)/xi"
      ]
     },
     "execution_count": 174,
     "metadata": {},
     "output_type": "execute_result"
    }
   ],
   "source": [
    "y2=j0+omega**2*(1-j0+a2*p2*j2)\n",
    "y2"
   ]
  },
  {
   "cell_type": "markdown",
   "id": "0e4733e0",
   "metadata": {},
   "source": [
    "# J2"
   ]
  },
  {
   "cell_type": "code",
   "execution_count": 175,
   "id": "e6d1e286",
   "metadata": {},
   "outputs": [
    {
     "data": {
      "text/latex": [
       "$\\displaystyle 15.6307329521554 - 8.3562720251257 t^{2}$"
      ],
      "text/plain": [
       "15.6307329521554 - 8.3562720251257*t**2"
      ]
     },
     "execution_count": 175,
     "metadata": {},
     "output_type": "execute_result"
    }
   ],
   "source": [
    "two=sm.integrate((xi**4*y2),(xi,0,xi_0(1)))\n",
    "two"
   ]
  },
  {
   "cell_type": "code",
   "execution_count": 176,
   "id": "01b04d05",
   "metadata": {},
   "outputs": [
    {
     "data": {
      "text/latex": [
       "$\\displaystyle 3.799171929226 - 1.46619859208561 t^{2}$"
      ],
      "text/plain": [
       "3.799171929226 - 1.46619859208561*t**2"
      ]
     },
     "execution_count": 176,
     "metadata": {},
     "output_type": "execute_result"
    }
   ],
   "source": [
    "three=sm.integrate((xi**2*y2),(xi,0,xi_0(1)))\n",
    "three"
   ]
  },
  {
   "cell_type": "code",
   "execution_count": 177,
   "id": "8ea138ed",
   "metadata": {},
   "outputs": [
    {
     "data": {
      "text/latex": [
       "$\\displaystyle 6.62087813039492$"
      ],
      "text/plain": [
       "6.62087813039492"
      ]
     },
     "execution_count": 177,
     "metadata": {},
     "output_type": "execute_result"
    }
   ],
   "source": [
    "four=sm.integrate(tree,(t,-1,1))\n",
    "four"
   ]
  },
  {
   "cell_type": "code",
   "execution_count": 178,
   "id": "68b64b38",
   "metadata": {},
   "outputs": [
    {
     "data": {
      "text/latex": [
       "$\\displaystyle -2.22833920670019$"
      ],
      "text/plain": [
       "-2.22833920670019"
      ]
     },
     "execution_count": 178,
     "metadata": {},
     "output_type": "execute_result"
    }
   ],
   "source": [
    "five=sm.integrate((p2*two),(t,-1,1))\n",
    "five"
   ]
  },
  {
   "cell_type": "code",
   "execution_count": 179,
   "id": "e0769e34",
   "metadata": {},
   "outputs": [
    {
     "data": {
      "text/latex": [
       "$\\displaystyle -0.0246120810040173$"
      ],
      "text/plain": [
       "-0.0246120810040173"
      ]
     },
     "execution_count": 179,
     "metadata": {},
     "output_type": "execute_result"
    }
   ],
   "source": [
    "J2=(xi_e**-2)*five/four\n",
    "J2"
   ]
  },
  {
   "cell_type": "markdown",
   "id": "7f72d3e3",
   "metadata": {},
   "source": [
    "# J4"
   ]
  },
  {
   "cell_type": "code",
   "execution_count": 152,
   "id": "4340984d",
   "metadata": {},
   "outputs": [
    {
     "data": {
      "text/latex": [
       "$\\displaystyle 0.286053135581272 t^{2} - 0.0424510451937574 + \\frac{0.3174 \\cdot \\left(0.336562486548484 + \\frac{4 \\left(-0.336562486548484 - \\frac{\\sin{\\left(\\xi \\right)}}{\\xi} + \\frac{\\cos{\\left(\\xi \\right)}}{\\xi}\\right)}{\\xi}\\right) \\left(22.56734375 t^{4} - 19.3434375 t^{2} + 1.93434375\\right)}{\\xi} + \\frac{0.9471 \\sin{\\left(\\xi \\right)}}{\\xi}$"
      ],
      "text/plain": [
       "0.286053135581272*t**2 - 0.0424510451937574 + 0.3174*(0.336562486548484 + 4*(-0.336562486548484 - sin(xi)/xi + cos(xi)/xi)/xi)*(22.56734375*t**4 - 19.3434375*t**2 + 1.93434375)/xi + 0.9471*sin(xi)/xi"
      ]
     },
     "execution_count": 152,
     "metadata": {},
     "output_type": "execute_result"
    }
   ],
   "source": [
    "y4=j0+omega**2*(1-j0+(a2*p2*j2)+(a4*p4*j4))\n",
    "y4"
   ]
  },
  {
   "cell_type": "code",
   "execution_count": 166,
   "id": "86bc4894",
   "metadata": {},
   "outputs": [
    {
     "data": {
      "text/latex": [
       "$\\displaystyle 0$"
      ],
      "text/plain": [
       "0"
      ]
     },
     "execution_count": 166,
     "metadata": {},
     "output_type": "execute_result"
    }
   ],
   "source": [
    "one=sm.integrate((p4),(t,-1,1))\n",
    "one"
   ]
  },
  {
   "cell_type": "code",
   "execution_count": 167,
   "id": "26a44e02",
   "metadata": {},
   "outputs": [
    {
     "data": {
      "text/latex": [
       "$\\displaystyle - 785.925533914885 t^{4} + 742.175013380435 t^{2} - 25.0219845558973$"
      ],
      "text/plain": [
       "-785.925533914885*t**4 + 742.175013380435*t**2 - 25.0219845558973"
      ]
     },
     "execution_count": 167,
     "metadata": {},
     "output_type": "execute_result"
    }
   ],
   "source": [
    "two=sm.integrate((xi**6*y4),(xi,0,xi_0(1)))\n",
    "two"
   ]
  },
  {
   "cell_type": "code",
   "execution_count": 168,
   "id": "d089da5e",
   "metadata": {},
   "outputs": [
    {
     "data": {
      "text/latex": [
       "$\\displaystyle - 66.0565248898719 t^{4} + 58.9173650498202 t^{2} + \\infty \\operatorname{sign}{\\left(35 t^{4} - 30 t^{2} + 3 \\right)} - 3.11737764010158$"
      ],
      "text/plain": [
       "-66.0565248898719*t**4 + 58.9173650498202*t**2 + oo*sign(35*t**4 - 30*t**2 + 3) - 3.11737764010158"
      ]
     },
     "execution_count": 168,
     "metadata": {},
     "output_type": "execute_result"
    }
   ],
   "source": [
    "three=sm.integrate((xi**2*y4),(xi,0,xi_0(1)))\n",
    "three"
   ]
  },
  {
   "cell_type": "code",
   "execution_count": 169,
   "id": "7d581548",
   "metadata": {},
   "outputs": [
    {
     "data": {
      "text/latex": [
       "$\\displaystyle 6.62087813039492$"
      ],
      "text/plain": [
       "6.62087813039492"
      ]
     },
     "execution_count": 169,
     "metadata": {},
     "output_type": "execute_result"
    }
   ],
   "source": [
    "four=sm.integrate(tree,(t,-1,1))\n",
    "four"
   ]
  },
  {
   "cell_type": "code",
   "execution_count": 170,
   "id": "9d301c84",
   "metadata": {},
   "outputs": [
    {
     "data": {
      "text/latex": [
       "$\\displaystyle -39.9200271194862$"
      ],
      "text/plain": [
       "-39.9200271194862"
      ]
     },
     "execution_count": 170,
     "metadata": {},
     "output_type": "execute_result"
    }
   ],
   "source": [
    "five=sm.integrate((p4*two),(t,-1,1))\n",
    "five"
   ]
  },
  {
   "cell_type": "code",
   "execution_count": 172,
   "id": "d0023a59",
   "metadata": {},
   "outputs": [
    {
     "data": {
      "text/latex": [
       "$\\displaystyle -0.032243374684058$"
      ],
      "text/plain": [
       "-0.0322433746840580"
      ]
     },
     "execution_count": 172,
     "metadata": {},
     "output_type": "execute_result"
    }
   ],
   "source": [
    "J4=(xi_e**-4)*five/four\n",
    "J4"
   ]
  },
  {
   "cell_type": "code",
   "execution_count": 134,
   "id": "ad0aa84e",
   "metadata": {},
   "outputs": [],
   "source": [
    "def trapezian(left, right, n, function):\n",
    "    h = (right - left) / (n)\n",
    "\n",
    "    return (function(left) + function(right) +\n",
    "        sum(function(left + step * h) for step in range(1, n))) * h"
   ]
  }
 ],
 "metadata": {
  "kernelspec": {
   "display_name": "Python 3 (ipykernel)",
   "language": "python",
   "name": "python3"
  },
  "language_info": {
   "codemirror_mode": {
    "name": "ipython",
    "version": 3
   },
   "file_extension": ".py",
   "mimetype": "text/x-python",
   "name": "python",
   "nbconvert_exporter": "python",
   "pygments_lexer": "ipython3",
   "version": "3.11.2"
  }
 },
 "nbformat": 4,
 "nbformat_minor": 5
}
